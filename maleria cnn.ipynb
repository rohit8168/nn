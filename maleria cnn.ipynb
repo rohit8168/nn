{
 "cells": [
  {
   "cell_type": "code",
   "execution_count": 27,
   "id": "8c2d1dfc",
   "metadata": {},
   "outputs": [],
   "source": [
    "import pandas as pd \n",
    "import numpy as np\n",
    "import matplotlib.pyplot as aplt\n",
    "import os\n",
    "import cv2 \n",
    "from PIL import Image\n",
    "from tensorflow import keras\n",
    "import tensorflow.keras.layers as k"
   ]
  },
  {
   "cell_type": "code",
   "execution_count": 3,
   "id": "3f0352c5",
   "metadata": {},
   "outputs": [],
   "source": [
    "from keras.preprocessing.image import ImageDataGenerator,load_img\n"
   ]
  },
  {
   "cell_type": "code",
   "execution_count": 4,
   "id": "67f7f471",
   "metadata": {},
   "outputs": [
    {
     "data": {
      "image/png": "[encoded data removed]",
      "text/plain": [
       "<PIL.Image.Image image mode=RGB size=64x64>"
      ]
     },
     "execution_count": 4,
     "metadata": {},
     "output_type": "execute_result"
    }
   ],
   "source": [
    "load_img(r\"C:\\Users\\preeti\\Downloads\\archive\\Malarial Cell Image Data\\malarial_cell_image_data\\cell_images\\cell_images\\Parasitized\\C99P60ThinF_IMG_20150918_142128_cell_78.png\",target_size=(64,64))"
   ]
  },
  {
   "cell_type": "code",
   "execution_count": 5,
   "id": "97d9ffa4",
   "metadata": {},
   "outputs": [],
   "source": [
    "os.environ['KERAS_BACKEND']='tensorflow'\n",
    "np.random.seed(312)"
   ]
  },
  {
   "cell_type": "code",
   "execution_count": 15,
   "id": "4283e806",
   "metadata": {},
   "outputs": [],
   "source": [
    "img_dir=r\"C:\\\\Users\\\\preeti\\\\Downloads\\\\archive\\\\Malarial Cell Image Data\\\\cell_images\\\\\"\n",
    "size =64\n",
    "dataset=[]\n",
    "label=[]"
   ]
  },
  {
   "cell_type": "code",
   "execution_count": 16,
   "id": "bf42b0ea",
   "metadata": {},
   "outputs": [],
   "source": [
    "parasitized_img=os.listdir(img_dir+\"Parasitized/\")\n",
    "for i,img_name in enumerate(parasitized_img):\n",
    "    if(img_name.split('.')[1]=='png'):\n",
    "        image=cv2.imread(img_dir+\"Parasitized/\"+img_name)\n",
    "        image=Image.fromarray(image,'RGB')\n",
    "        image=image.resize((size,size))\n",
    "        dataset.append((np.array(image)))\n",
    "        label.append(0)"
   ]
  },
  {
   "cell_type": "code",
   "execution_count": 19,
   "id": "89523de0",
   "metadata": {},
   "outputs": [],
   "source": [
    "Uninfected_img=os.listdir(img_dir+\"Uninfected/\")\n",
    "for i,img_name in enumerate(Uninfected_img):\n",
    "    if(img_name.split('.')[1]=='png'):\n",
    "        image=cv2.imread(img_dir+\"Uninfected/\"+img_name)\n",
    "        image=Image.fromarray(image,'RGB')\n",
    "        image=image.resize((size,size))\n",
    "        dataset.append((np.array(image)))\n",
    "        label.append(1)"
   ]
  },
  {
   "cell_type": "code",
   "execution_count": 21,
   "id": "5bff70c6",
   "metadata": {},
   "outputs": [
    {
     "data": {
      "text/plain": [
       "4133"
      ]
     },
     "execution_count": 21,
     "metadata": {},
     "output_type": "execute_result"
    }
   ],
   "source": [
    "len(Uninfected_img)"
   ]
  },
  {
   "cell_type": "code",
   "execution_count": 22,
   "id": "9b9a7979",
   "metadata": {},
   "outputs": [],
   "source": [
    "from sklearn.model_selection import train_test_split\n",
    "from keras.utils import to_categorical\n",
    "x_train,x_test,y_train,y_test=train_test_split(dataset,to_categorical(np.array(label)),test_size=0.2,random_state=0)"
   ]
  },
  {
   "cell_type": "code",
   "execution_count": 36,
   "id": "be4fc706",
   "metadata": {},
   "outputs": [],
   "source": [
    "import tensorflow.keras.layers as K\n",
    "INPUT_SHAPE=(size,size,3)\n",
    "inp=K.Input(shape=INPUT_SHAPE)\n",
    "conv1=K.Conv2D(32,kernel_size=(3,3),activation='relu',padding=\"same\")(inp)\n",
    "pool1=K.MaxPool2D(pool_size=(2,2))(conv1)\n",
    "norm1=K.BatchNormalization(axis=-1)(pool1)\n",
    "drop1=K.Dropout(rate=0.2)(norm1)\n",
    "\n",
    "conv2=K.Conv2D(32,kernel_size=(3,3),activation='relu',padding=\"same\")(drop1)\n",
    "pool2=K.MaxPool2D(pool_size=(2,2))(conv2)\n",
    "norm2=K.BatchNormalization(axis=-1)(pool2)\n",
    "drop2=K.Dropout(rate=0.2)(norm2)\n",
    "\n",
    "flat=K.Flatten()(drop2)\n",
    "hidden1=K.Dense(512,activation=\"relu\")(flat)\n",
    "norm3=K.BatchNormalization(axis=-1)(hidden1)\n",
    "drop3=K.Dropout(rate=0.2)(norm3)\n",
    "\n",
    "hidden2=K.Dense(256,activation=\"relu\")(drop3)\n",
    "norm4=K.BatchNormalization(axis=-1)(hidden2)\n",
    "drop4=K.Dropout(rate=0.2)(norm4)\n",
    "out=K.Dense(2,activation=\"sigmoid\")(drop4)\n",
    "\n"
   ]
  },
  {
   "cell_type": "code",
   "execution_count": 51,
   "id": "0645b377",
   "metadata": {},
   "outputs": [
    {
     "name": "stdout",
     "output_type": "stream",
     "text": [
      "Model: \"model_7\"\n",
      "_________________________________________________________________\n",
      " Layer (type)                Output Shape              Param #   \n",
      "=================================================================\n",
      " input_11 (InputLayer)       [(None, 64, 64, 3)]       0         \n",
      "                                                                 \n",
      " conv2d_4 (Conv2D)           (None, 64, 64, 32)        896       \n",
      "                                                                 \n",
      " max_pooling2d_3 (MaxPoolin  (None, 32, 32, 32)        0         \n",
      " g2D)                                                            \n",
      "                                                                 \n",
      " batch_normalization_3 (Bat  (None, 32, 32, 32)        128       \n",
      " chNormalization)                                                \n",
      "                                                                 \n",
      " dropout_2 (Dropout)         (None, 32, 32, 32)        0         \n",
      "                                                                 \n",
      " conv2d_5 (Conv2D)           (None, 32, 32, 32)        9248      \n",
      "                                                                 \n",
      " max_pooling2d_4 (MaxPoolin  (None, 16, 16, 32)        0         \n",
      " g2D)                                                            \n",
      "                                                                 \n",
      " batch_normalization_4 (Bat  (None, 16, 16, 32)        128       \n",
      " chNormalization)                                                \n",
      "                                                                 \n",
      " dropout_3 (Dropout)         (None, 16, 16, 32)        0         \n",
      "                                                                 \n",
      " flatten (Flatten)           (None, 8192)              0         \n",
      "                                                                 \n",
      " dense (Dense)               (None, 512)               4194816   \n",
      "                                                                 \n",
      " batch_normalization_5 (Bat  (None, 512)               2048      \n",
      " chNormalization)                                                \n",
      "                                                                 \n",
      " dropout_4 (Dropout)         (None, 512)               0         \n",
      "                                                                 \n",
      " dense_1 (Dense)             (None, 256)               131328    \n",
      "                                                                 \n",
      " batch_normalization_6 (Bat  (None, 256)               1024      \n",
      " chNormalization)                                                \n",
      "                                                                 \n",
      " dropout_5 (Dropout)         (None, 256)               0         \n",
      "                                                                 \n",
      " dense_2 (Dense)             (None, 2)                 514       \n",
      "                                                                 \n",
      "=================================================================\n",
      "Total params: 4340130 (16.56 MB)\n",
      "Trainable params: 4338466 (16.55 MB)\n",
      "Non-trainable params: 1664 (6.50 KB)\n",
      "_________________________________________________________________\n",
      "None\n"
     ]
    }
   ],
   "source": [
    "model=keras.Model(inputs=inp,outputs=out)\n",
    "model.compile(optimizer=\"adam\",loss='categorical_crossentropy',metrics=['accuracy'])\n",
    "print(model.summary())"
   ]
  },
  {
   "cell_type": "code",
   "execution_count": 52,
   "id": "28cc4df8",
   "metadata": {},
   "outputs": [
    {
     "name": "stdout",
     "output_type": "stream",
     "text": [
      "Epoch 1/5\n",
      "WARNING:tensorflow:From C:\\Users\\preeti\\anaconda3\\Lib\\site-packages\\keras\\src\\utils\\tf_utils.py:492: The name tf.ragged.RaggedTensorValue is deprecated. Please use tf.compat.v1.ragged.RaggedTensorValue instead.\n",
      "\n",
      "WARNING:tensorflow:From C:\\Users\\preeti\\anaconda3\\Lib\\site-packages\\keras\\src\\engine\\base_layer_utils.py:384: The name tf.executing_eagerly_outside_functions is deprecated. Please use tf.compat.v1.executing_eagerly_outside_functions instead.\n",
      "\n",
      "202/202 [==============================] - 27s 122ms/step - loss: 0.5836 - accuracy: 0.7408 - val_loss: 0.8332 - val_accuracy: 0.5707\n",
      "Epoch 2/5\n",
      "202/202 [==============================] - 24s 121ms/step - loss: 0.2923 - accuracy: 0.8794 - val_loss: 1.9069 - val_accuracy: 0.5024\n",
      "Epoch 3/5\n",
      "202/202 [==============================] - 22s 109ms/step - loss: 0.2218 - accuracy: 0.9117 - val_loss: 0.2280 - val_accuracy: 0.9157\n",
      "Epoch 4/5\n",
      "202/202 [==============================] - 23s 114ms/step - loss: 0.1866 - accuracy: 0.9273 - val_loss: 0.2863 - val_accuracy: 0.9003\n",
      "Epoch 5/5\n",
      "202/202 [==============================] - 23s 116ms/step - loss: 0.1691 - accuracy: 0.9330 - val_loss: 0.1989 - val_accuracy: 0.9233\n"
     ]
    }
   ],
   "source": [
    "history=model.fit(np.array(x_train),y_train,batch_size=64,verbose=1,epochs=5,validation_split=0.1,shuffle=False)"
   ]
  },
  {
   "cell_type": "code",
   "execution_count": 53,
   "id": "8626c01d",
   "metadata": {},
   "outputs": [
    {
     "name": "stdout",
     "output_type": "stream",
     "text": [
      "113/113 [==============================] - 1s 12ms/step - loss: 0.1794 - accuracy: 0.9317\n",
      "Test_Accuracy:93.17%\n"
     ]
    }
   ],
   "source": [
    "print(\"Test_Accuracy:{:.2f}%\".format(model.evaluate(np.array(x_test),np.array(y_test))[1]*100))"
   ]
  }
 ],
 "metadata": {
  "kernelspec": {
   "display_name": "Python 3 (ipykernel)",
   "language": "python",
   "name": "python3"
  },
  "language_info": {
   "codemirror_mode": {
    "name": "ipython",
    "version": 3
   },
   "file_extension": ".py",
   "mimetype": "text/x-python",
   "name": "python",
   "nbconvert_exporter": "python",
   "pygments_lexer": "ipython3",
   "version": "3.11.5"
  }
 },
 "nbformat": 4,
 "nbformat_minor": 5
}
